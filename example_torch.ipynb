{
 "cells": [
  {
   "cell_type": "code",
   "execution_count": 1,
   "metadata": {},
   "outputs": [],
   "source": [
    "import os\n",
    "import numpy as np\n",
    "import torch\n",
    "import torch.nn as nn\n",
    "from torchvision import datasets, transforms\n",
    "from utils import plot_mnist\n",
    "from models.Mnist_torch import Mnist_torch\n"
   ]
  },
  {
   "cell_type": "code",
   "execution_count": 2,
   "metadata": {},
   "outputs": [],
   "source": [
    "train_loader = torch.utils.data.DataLoader(datasets.MNIST('../data', train=True, download=True,\n",
    "                    transform=transforms.Compose([\n",
    "                        transforms.ToTensor(),\n",
    "                        transforms.Normalize((0.1307,), (0.3081,))\n",
    "                    ])), batch_size=64, shuffle=True)\n",
    "test_loader = torch.utils.data.DataLoader(datasets.MNIST('../data', train=False, \n",
    "                        transform=transforms.Compose([\n",
    "                        transforms.ToTensor(),\n",
    "                        transforms.Normalize((0.1307,), (0.3081,))\n",
    "                    ])), batch_size=1000, shuffle=False)"
   ]
  },
  {
   "cell_type": "code",
   "execution_count": 3,
   "metadata": {},
   "outputs": [],
   "source": [
    "class Net(nn.Module):\n",
    "    def __init__(self):\n",
    "        super().__init__()\n",
    "        self.model = nn.Sequential(\n",
    "            nn.Conv2d(1, 10, kernel_size=5),\n",
    "            nn.MaxPool2d(2),\n",
    "            nn.ReLU(),\n",
    "            nn.Conv2d(10, 20, kernel_size=5),\n",
    "            nn.Dropout2d(),\n",
    "            nn.MaxPool2d(2),\n",
    "            nn.ReLU(),\n",
    "            nn.Flatten(),\n",
    "            nn.Linear(320, 50),\n",
    "            nn.ReLU(),\n",
    "            nn.Dropout(),\n",
    "            nn.Linear(50, 10),\n",
    "            nn.Softmax(dim=1)\n",
    "        )\n",
    "    def forward(self, inputs):\n",
    "        return self.model(inputs)"
   ]
  },
  {
   "cell_type": "code",
   "execution_count": 4,
   "metadata": {},
   "outputs": [],
   "source": [
    "model = Net()\n",
    "model = Mnist_torch(model)"
   ]
  },
  {
   "cell_type": "code",
   "execution_count": 5,
   "metadata": {},
   "outputs": [],
   "source": [
    "model.load_weights('mnist.pth')"
   ]
  },
  {
   "cell_type": "code",
   "execution_count": 6,
   "metadata": {},
   "outputs": [
    {
     "data": {
      "text/plain": [
       "{'': <torch.utils.hooks.RemovableHandle at 0x7f8c7e4a81f0>,\n",
       " 'model': <torch.utils.hooks.RemovableHandle at 0x7f8c7e4a8c10>,\n",
       " 'model.0': <torch.utils.hooks.RemovableHandle at 0x7f8c7e4a8a00>,\n",
       " 'model.1': <torch.utils.hooks.RemovableHandle at 0x7f8c7e4a8370>,\n",
       " 'model.2': <torch.utils.hooks.RemovableHandle at 0x7f8c7e4a8a90>,\n",
       " 'model.3': <torch.utils.hooks.RemovableHandle at 0x7f8c7e4a8490>,\n",
       " 'model.4': <torch.utils.hooks.RemovableHandle at 0x7f8c7e4a8940>,\n",
       " 'model.5': <torch.utils.hooks.RemovableHandle at 0x7f8c7e4a85b0>,\n",
       " 'model.6': <torch.utils.hooks.RemovableHandle at 0x7f8c7e4a86d0>,\n",
       " 'model.7': <torch.utils.hooks.RemovableHandle at 0x7f8c7e4a8850>,\n",
       " 'model.8': <torch.utils.hooks.RemovableHandle at 0x7f8c7e4a8700>,\n",
       " 'model.9': <torch.utils.hooks.RemovableHandle at 0x7f8c7e4a8c70>,\n",
       " 'model.10': <torch.utils.hooks.RemovableHandle at 0x7f8c7e4a89a0>,\n",
       " 'model.11': <torch.utils.hooks.RemovableHandle at 0x7f8c7e4a8190>,\n",
       " 'model.12': <torch.utils.hooks.RemovableHandle at 0x7f8c7e4a84c0>}"
      ]
     },
     "execution_count": 6,
     "metadata": {},
     "output_type": "execute_result"
    }
   ],
   "source": [
    "model.get_layer_outputs"
   ]
  },
  {
   "cell_type": "code",
   "execution_count": 7,
   "metadata": {},
   "outputs": [
    {
     "name": "stderr",
     "output_type": "stream",
     "text": [
      "/tmp/ipykernel_44645/1528009909.py:5: UserWarning: To copy construct from a tensor, it is recommended to use sourceTensor.clone().detach() or sourceTensor.clone().detach().requires_grad_(True), rather than torch.tensor(sourceTensor).\n",
      "  dataset = torch.tensor(data)\n",
      "/tmp/ipykernel_44645/1528009909.py:6: UserWarning: To copy construct from a tensor, it is recommended to use sourceTensor.clone().detach() or sourceTensor.clone().detach().requires_grad_(True), rather than torch.tensor(sourceTensor).\n",
      "  dataset_labels = torch.tensor(data_set)\n"
     ]
    }
   ],
   "source": [
    "dataset = torch.tensor([])\n",
    "dataset_labels = torch.tensor([])\n",
    "for num, (data, data_set) in enumerate(test_loader):\n",
    "    if num == 0:\n",
    "        dataset = torch.tensor(data)\n",
    "        dataset_labels = torch.tensor(data_set)\n",
    "    else:\n",
    "        dataset = torch.cat((dataset, data), 0)\n",
    "        dataset_labels = torch.cat((dataset_labels, data_set), 0)"
   ]
  },
  {
   "cell_type": "code",
   "execution_count": 8,
   "metadata": {},
   "outputs": [
    {
     "name": "stdout",
     "output_type": "stream",
     "text": [
      "torch.Size([10000, 1, 28, 28])\n",
      "torch.Size([10000])\n"
     ]
    }
   ],
   "source": [
    "print(dataset.shape)\n",
    "print(dataset_labels.shape)"
   ]
  },
  {
   "cell_type": "code",
   "execution_count": 9,
   "metadata": {},
   "outputs": [
    {
     "data": {
      "text/plain": [
       "tensor([7, 2, 1,  ..., 4, 5, 6])"
      ]
     },
     "execution_count": 9,
     "metadata": {},
     "output_type": "execute_result"
    }
   ],
   "source": [
    "dataset_labels"
   ]
  },
  {
   "cell_type": "code",
   "execution_count": 10,
   "metadata": {},
   "outputs": [
    {
     "name": "stdout",
     "output_type": "stream",
     "text": [
      "\n",
      "model\n",
      "model.0\n",
      "model.1\n",
      "model.2\n",
      "model.3\n",
      "model.4\n",
      "model.5\n",
      "model.6\n",
      "model.7\n",
      "model.8\n",
      "model.9\n",
      "model.10\n",
      "model.11\n",
      "model.12\n"
     ]
    }
   ],
   "source": [
    "for name, module in model.model.named_modules():\n",
    "    print(name)"
   ]
  },
  {
   "cell_type": "code",
   "execution_count": 11,
   "metadata": {},
   "outputs": [
    {
     "name": "stdout",
     "output_type": "stream",
     "text": [
      "11\n"
     ]
    }
   ],
   "source": [
    "all_layer_names = [layer[0] for layer in model.model.named_modules()]\n",
    "layer_name = \"model.9\"\n",
    "layer_id = all_layer_names.index(layer_name)\n",
    "print(layer_id)"
   ]
  },
  {
   "cell_type": "code",
   "execution_count": 12,
   "metadata": {},
   "outputs": [],
   "source": [
    "import ctypes\n",
    "lib_file = \"index/build/lib.linux-x86_64-3.8/deepeverst_index.cpython-38-x86_64-linux-gnu.so\"\n",
    "index_lib = ctypes.CDLL(lib_file)"
   ]
  },
  {
   "cell_type": "code",
   "execution_count": 13,
   "metadata": {},
   "outputs": [
    {
     "name": "stdout",
     "output_type": "stream",
     "text": [
      "10000\n",
      "<class 'torch.Tensor'>\n"
     ]
    }
   ],
   "source": [
    "import math\n",
    "from utils import *\n",
    "\n",
    "n_images = len(dataset)\n",
    "n_partitions= 64\n",
    "batch_size = 64\n",
    "ratio = 0.05\n",
    "bits_per_image = math.ceil(math.log(n_partitions, 2))\n",
    "print(n_images)\n",
    "print(type(dataset))"
   ]
  },
  {
   "cell_type": "code",
   "execution_count": 14,
   "metadata": {},
   "outputs": [],
   "source": [
    "layer_result = get_layer_result_by_layer_id(model, dataset, layer_id, batch_size=None)"
   ]
  },
  {
   "cell_type": "code",
   "execution_count": 15,
   "metadata": {},
   "outputs": [
    {
     "name": "stdout",
     "output_type": "stream",
     "text": [
      "tensor([[ 0.0000,  0.0000,  0.0000,  ...,  0.0000,  0.0000,  0.0000],\n",
      "        [14.5403,  0.0000, 17.8139,  ..., 21.9381,  0.0000, 12.6076],\n",
      "        [ 0.0000,  0.0000,  0.0000,  ...,  0.0000,  0.0000,  0.0000],\n",
      "        ...,\n",
      "        [ 6.1944,  4.3168,  0.1817,  ...,  0.0000, 11.7333,  0.0000],\n",
      "        [ 0.0000,  0.0000,  3.7585,  ...,  0.0000,  0.0000,  9.8025],\n",
      "        [ 5.7350, 22.6847, 12.5248,  ..., 11.7988, 14.2970, 18.9270]])\n",
      "torch.Size([10000, 50])\n"
     ]
    }
   ],
   "source": [
    "print(layer_result)\n",
    "print(layer_result.shape)"
   ]
  },
  {
   "cell_type": "code",
   "execution_count": 16,
   "metadata": {},
   "outputs": [],
   "source": [
    "layer_result = layer_result.detach().numpy()\n",
    "from DeepEverest_torch import *\n",
    "rev_act, rev_idx_act, rev_bit_arr, rev_idx_idx, par_low_bound, par_upp_bound = construct_index(\n",
    "        index_lib=index_lib,\n",
    "        n_images=n_images,\n",
    "        ratio=ratio,\n",
    "        n_partitions=n_partitions,\n",
    "        bits_per_image=bits_per_image,\n",
    "        layer_result=layer_result)"
   ]
  },
  {
   "cell_type": "code",
   "execution_count": 17,
   "metadata": {},
   "outputs": [
    {
     "name": "stdout",
     "output_type": "stream",
     "text": [
      "tensor([7, 2, 1,  ..., 4, 5, 6])\n"
     ]
    }
   ],
   "source": [
    "label_predicted = torch.argmax(model.predict(dataset), axis=1)\n",
    "print(label_predicted)"
   ]
  },
  {
   "cell_type": "code",
   "execution_count": 18,
   "metadata": {},
   "outputs": [
    {
     "name": "stdout",
     "output_type": "stream",
     "text": [
      "tensor([7, 2, 1,  ..., 4, 5, 6])\n"
     ]
    }
   ],
   "source": [
    "label_test = dataset_labels\n",
    "print(label_test)"
   ]
  },
  {
   "cell_type": "code",
   "execution_count": 19,
   "metadata": {},
   "outputs": [
    {
     "data": {
      "text/plain": [
       "(array([ 33,  62,  73, 124, 209, 233, 241, 247, 259, 290, 318, 320, 321,\n",
       "        445, 448, 449, 479, 495, 511, 530, 543, 551, 571, 582, 591, 659,\n",
       "        684, 689, 691, 717, 720, 740, 810, 839, 894, 898, 900, 924, 926,\n",
       "        938, 947, 950, 956, 965]),)"
      ]
     },
     "execution_count": 19,
     "metadata": {},
     "output_type": "execute_result"
    }
   ],
   "source": [
    "misclassified_mask = label_predicted[:1000] != label_test[:1000]\n",
    "np.where(misclassified_mask)"
   ]
  },
  {
   "cell_type": "code",
   "execution_count": 20,
   "metadata": {},
   "outputs": [
    {
     "data": {
      "image/png": "[encoded data removed]",
      "text/plain": [
       "<Figure size 432x288 with 1 Axes>"
      ]
     },
     "metadata": {
      "needs_background": "light"
     },
     "output_type": "display_data"
    },
    {
     "data": {
      "image/png": "[encoded data removed]",
      "text/plain": [
       "<Figure size 432x288 with 1 Axes>"
      ]
     },
     "metadata": {
      "needs_background": "light"
     },
     "output_type": "display_data"
    },
    {
     "data": {
      "image/png": "[encoded data removed]",
      "text/plain": [
       "<Figure size 432x288 with 1 Axes>"
      ]
     },
     "metadata": {
      "needs_background": "light"
     },
     "output_type": "display_data"
    },
    {
     "data": {
      "image/png": "[encoded data removed]",
      "text/plain": [
       "<Figure size 432x288 with 1 Axes>"
      ]
     },
     "metadata": {
      "needs_background": "light"
     },
     "output_type": "display_data"
    },
    {
     "data": {
      "image/png": "[encoded data removed]",
      "text/plain": [
       "<Figure size 432x288 with 1 Axes>"
      ]
     },
     "metadata": {
      "needs_background": "light"
     },
     "output_type": "display_data"
    }
   ],
   "source": [
    "image_ids = [193, 412, 582, 659, 938]\n",
    "for image_id in image_ids:\n",
    "    prediction = torch.argmax(model.predict(dataset[image_id].reshape((1, 1, 28, 28))), axis=1)\n",
    "    plot_mnist(dataset, label_test, image_id, prediction)"
   ]
  },
  {
   "cell_type": "code",
   "execution_count": 21,
   "metadata": {},
   "outputs": [],
   "source": [
    "import heapq\n",
    "def get_topk_activations_given_images(model, dataset, image_ids, layer_name, k):\n",
    "    res = []\n",
    "    image_samples = []\n",
    "    for image_sample_id in image_ids:\n",
    "        image_samples.append(dataset[image_sample_id])\n",
    "    image_samples = torch.stack(image_samples)\n",
    "    layer_result_image_samples = model.get_layer_result_by_layer_name(image_samples, layer_name)\n",
    "    for idx, image_sample_id in enumerate(image_ids):\n",
    "        heap = list()\n",
    "        for neuron_idx, activation in np.ndenumerate(layer_result_image_samples[idx]):\n",
    "            if len(heap) < k:\n",
    "                heapq.heappush(heap, (activation, neuron_idx))\n",
    "            elif (activation, neuron_idx) > heap[0]:\n",
    "                heapq.heapreplace(heap, (activation, neuron_idx))\n",
    "        res.append(sorted(heap, reverse=True))\n",
    "    return res"
   ]
  },
  {
   "cell_type": "code",
   "execution_count": 22,
   "metadata": {},
   "outputs": [
    {
     "data": {
      "text/plain": [
       "[(18.500181, (22,)),\n",
       " (17.930517, (31,)),\n",
       " (12.450147, (40,)),\n",
       " (12.163991, (19,)),\n",
       " (11.593167, (11,)),\n",
       " (11.415342, (21,)),\n",
       " (10.074311, (46,)),\n",
       " (9.022502, (45,)),\n",
       " (8.759412, (23,)),\n",
       " (7.912117, (43,)),\n",
       " (6.0367236, (24,)),\n",
       " (5.741935, (42,)),\n",
       " (5.118834, (27,)),\n",
       " (5.04021, (20,)),\n",
       " (4.394094, (25,)),\n",
       " (4.0837927, (34,)),\n",
       " (3.5555177, (3,)),\n",
       " (3.0059814, (4,)),\n",
       " (0.0, (49,)),\n",
       " (0.0, (48,))]"
      ]
     },
     "execution_count": 22,
     "metadata": {},
     "output_type": "execute_result"
    }
   ],
   "source": [
    "image_ids = [659]\n",
    "k_global = 20\n",
    "topk_activations = get_topk_activations_given_images(model, dataset, image_ids, layer_name, k_global)[0]\n",
    "topk_activations_neurons = [x[1] for x in topk_activations]\n",
    "topk_activations"
   ]
  },
  {
   "cell_type": "code",
   "execution_count": 23,
   "metadata": {},
   "outputs": [],
   "source": [
    "from NeuronGroup import *\n",
    "image_sample_id = 659\n",
    "neuron_group = NeuronGroup(model.model, layer_id, neuron_idx_list=topk_activations_neurons[:3])"
   ]
  },
  {
   "cell_type": "code",
   "execution_count": 24,
   "metadata": {},
   "outputs": [
    {
     "name": "stdout",
     "output_type": "stream",
     "text": [
      "image 659, size of neuron group 3\n"
     ]
    },
    {
     "ename": "TypeError",
     "evalue": "conv2d() received an invalid combination of arguments - got (list, Parameter, Parameter, tuple, tuple, tuple, int), but expected one of:\n * (Tensor input, Tensor weight, Tensor bias, tuple of ints stride, tuple of ints padding, tuple of ints dilation, int groups)\n      didn't match because some of the arguments have invalid types: (!list!, !Parameter!, !Parameter!, !tuple!, !tuple!, !tuple!, int)\n * (Tensor input, Tensor weight, Tensor bias, tuple of ints stride, str padding, tuple of ints dilation, int groups)\n      didn't match because some of the arguments have invalid types: (!list!, !Parameter!, !Parameter!, !tuple!, !tuple!, !tuple!, int)\n",
     "output_type": "error",
     "traceback": [
      "\u001b[0;31m---------------------------------------------------------------------------\u001b[0m",
      "\u001b[0;31mTypeError\u001b[0m                                 Traceback (most recent call last)",
      "\u001b[1;32m/home/lzw365/Downloads/DeepEverest/example_torch.ipynb Cell 24'\u001b[0m in \u001b[0;36m<cell line: 1>\u001b[0;34m()\u001b[0m\n\u001b[0;32m----> <a href='vscode-notebook-cell://ssh-remote%2B7b22686f73744e616d65223a223130302e36342e37312e3136222c2275736572223a226c7a77333635227d/home/lzw365/Downloads/DeepEverest/example_torch.ipynb#ch0000023vscode-remote?line=0'>1</a>\u001b[0m top_k, exit_msg, is_in_partition_0, n_images_rerun \u001b[39m=\u001b[39m answer_query_with_guarantee(\n\u001b[1;32m      <a href='vscode-notebook-cell://ssh-remote%2B7b22686f73744e616d65223a223130302e36342e37312e3136222c2275736572223a226c7a77333635227d/home/lzw365/Downloads/DeepEverest/example_torch.ipynb#ch0000023vscode-remote?line=1'>2</a>\u001b[0m                                                         model, dataset, rev_act, rev_idx_act, rev_bit_arr, rev_idx_idx,\n\u001b[1;32m      <a href='vscode-notebook-cell://ssh-remote%2B7b22686f73744e616d65223a223130302e36342e37312e3136222c2275736572223a226c7a77333635227d/home/lzw365/Downloads/DeepEverest/example_torch.ipynb#ch0000023vscode-remote?line=2'>3</a>\u001b[0m                                                         par_low_bound, par_upp_bound, image_sample_id,\n\u001b[1;32m      <a href='vscode-notebook-cell://ssh-remote%2B7b22686f73744e616d65223a223130302e36342e37312e3136222c2275736572223a226c7a77333635227d/home/lzw365/Downloads/DeepEverest/example_torch.ipynb#ch0000023vscode-remote?line=3'>4</a>\u001b[0m                                                         neuron_group, k_global, n_partitions, bits_per_image,\n\u001b[1;32m      <a href='vscode-notebook-cell://ssh-remote%2B7b22686f73744e616d65223a223130302e36342e37312e3136222c2275736572223a226c7a77333635227d/home/lzw365/Downloads/DeepEverest/example_torch.ipynb#ch0000023vscode-remote?line=4'>5</a>\u001b[0m                                                         BATCH_SIZE\u001b[39m=\u001b[39;49mbatch_size, batch_size\u001b[39m=\u001b[39;49mbatch_size)\n\u001b[1;32m      <a href='vscode-notebook-cell://ssh-remote%2B7b22686f73744e616d65223a223130302e36342e37312e3136222c2275736572223a226c7a77333635227d/home/lzw365/Downloads/DeepEverest/example_torch.ipynb#ch0000023vscode-remote?line=5'>6</a>\u001b[0m top_k \u001b[39m=\u001b[39m \u001b[39msorted\u001b[39m(top_k)\n\u001b[1;32m      <a href='vscode-notebook-cell://ssh-remote%2B7b22686f73744e616d65223a223130302e36342e37312e3136222c2275736572223a226c7a77333635227d/home/lzw365/Downloads/DeepEverest/example_torch.ipynb#ch0000023vscode-remote?line=6'>7</a>\u001b[0m top_k, exit_msg\n",
      "File \u001b[0;32m~/Downloads/DeepEverest/DeepEverest_torch.py:215\u001b[0m, in \u001b[0;36manswer_query_with_guarantee\u001b[0;34m(model, dataset, rev_act, rev_idx_act, rev_bit_arr, idx_of_rev_idx, par_low_bound, par_upp_bound, image_sample_id, neuron_group, k, n_partitions, bits_per_image, BATCH_SIZE, batch_size, where)\u001b[0m\n\u001b[1;32m    <a href='file:///home/lzw365/Downloads/DeepEverest/DeepEverest_torch.py?line=212'>213</a>\u001b[0m row_cnt \u001b[39m+\u001b[39m\u001b[39m=\u001b[39m (n_images \u001b[39m-\u001b[39m n_images_in_partition_0) \u001b[39m/\u001b[39m\u001b[39m/\u001b[39m (n_partitions \u001b[39m-\u001b[39m \u001b[39m1\u001b[39m)\n\u001b[1;32m    <a href='file:///home/lzw365/Downloads/DeepEverest/DeepEverest_torch.py?line=213'>214</a>\u001b[0m \u001b[39mif\u001b[39;00m \u001b[39mlen\u001b[39m(image_batch) \u001b[39m>\u001b[39m \u001b[39m0\u001b[39m:\n\u001b[0;32m--> <a href='file:///home/lzw365/Downloads/DeepEverest/DeepEverest_torch.py?line=214'>215</a>\u001b[0m     run_nn_and_update_things(dataset, group_activation_cached, group_sample, heap, image_batch, k, layer_id,\n\u001b[1;32m    <a href='file:///home/lzw365/Downloads/DeepEverest/DeepEverest_torch.py?line=215'>216</a>\u001b[0m                              model, neuron_group, BATCH_SIZE)\n\u001b[1;32m    <a href='file:///home/lzw365/Downloads/DeepEverest/DeepEverest_torch.py?line=216'>217</a>\u001b[0m     n_images_run \u001b[39m+\u001b[39m\u001b[39m=\u001b[39m \u001b[39mlen\u001b[39m(image_batch)\n\u001b[1;32m    <a href='file:///home/lzw365/Downloads/DeepEverest/DeepEverest_torch.py?line=217'>218</a>\u001b[0m     image_batch \u001b[39m=\u001b[39m \u001b[39mset\u001b[39m()\n",
      "File \u001b[0;32m~/Downloads/DeepEverest/DeepEverest_torch.py:386\u001b[0m, in \u001b[0;36mrun_nn_and_update_things\u001b[0;34m(dataset, group_activation_cached, group_sample, heap, image_batch, k, layer_id, model, neuron_group, BATCH_SIZE)\u001b[0m\n\u001b[1;32m    <a href='file:///home/lzw365/Downloads/DeepEverest/DeepEverest_torch.py?line=382'>383</a>\u001b[0m \u001b[39mdef\u001b[39;00m \u001b[39mrun_nn_and_update_things\u001b[39m(dataset, group_activation_cached, group_sample, heap, image_batch, k, layer_id, model,\n\u001b[1;32m    <a href='file:///home/lzw365/Downloads/DeepEverest/DeepEverest_torch.py?line=383'>384</a>\u001b[0m                              neuron_group, BATCH_SIZE):\n\u001b[1;32m    <a href='file:///home/lzw365/Downloads/DeepEverest/DeepEverest_torch.py?line=384'>385</a>\u001b[0m     image_batch \u001b[39m=\u001b[39m \u001b[39mlist\u001b[39m(image_batch)\n\u001b[0;32m--> <a href='file:///home/lzw365/Downloads/DeepEverest/DeepEverest_torch.py?line=385'>386</a>\u001b[0m     layer_result \u001b[39m=\u001b[39m get_layer_result_for_image_batch(model, dataset, image_batch, layer_id, BATCH_SIZE)\n\u001b[1;32m    <a href='file:///home/lzw365/Downloads/DeepEverest/DeepEverest_torch.py?line=386'>387</a>\u001b[0m     \u001b[39mfor\u001b[39;00m input_id, real_id \u001b[39min\u001b[39;00m \u001b[39menumerate\u001b[39m(image_batch):\n\u001b[1;32m    <a href='file:///home/lzw365/Downloads/DeepEverest/DeepEverest_torch.py?line=387'>388</a>\u001b[0m         group_activation_cached[real_id] \u001b[39m=\u001b[39m get_group_activations_from_layer(neuron_group, layer_result[input_id])\n",
      "File \u001b[0;32m~/Downloads/DeepEverest/utils.py:485\u001b[0m, in \u001b[0;36mget_layer_result_for_image_batch\u001b[0;34m(model, dataset, image_batch, layer_id, batch_size)\u001b[0m\n\u001b[1;32m    <a href='file:///home/lzw365/Downloads/DeepEverest/utils.py?line=482'>483</a>\u001b[0m \u001b[39mfor\u001b[39;00m input_id \u001b[39min\u001b[39;00m image_batch:\n\u001b[1;32m    <a href='file:///home/lzw365/Downloads/DeepEverest/utils.py?line=483'>484</a>\u001b[0m     cur_input\u001b[39m.\u001b[39mappend(dataset[input_id])\n\u001b[0;32m--> <a href='file:///home/lzw365/Downloads/DeepEverest/utils.py?line=484'>485</a>\u001b[0m layer_result \u001b[39m=\u001b[39m get_layer_result_by_layer_id(model, cur_input, layer_id, batch_size)\n\u001b[1;32m    <a href='file:///home/lzw365/Downloads/DeepEverest/utils.py?line=485'>486</a>\u001b[0m \u001b[39mreturn\u001b[39;00m layer_result\n",
      "File \u001b[0;32m~/Downloads/DeepEverest/utils.py:346\u001b[0m, in \u001b[0;36mget_layer_result_by_layer_id\u001b[0;34m(model, x, layer_id, batch_size)\u001b[0m\n\u001b[1;32m    <a href='file:///home/lzw365/Downloads/DeepEverest/utils.py?line=343'>344</a>\u001b[0m     layer_res \u001b[39m=\u001b[39m model\u001b[39m.\u001b[39mget_layer_result_by_layer_id(x[i \u001b[39m*\u001b[39m batch_size: n], layer_id)\n\u001b[1;32m    <a href='file:///home/lzw365/Downloads/DeepEverest/utils.py?line=344'>345</a>\u001b[0m \u001b[39melse\u001b[39;00m:\n\u001b[0;32m--> <a href='file:///home/lzw365/Downloads/DeepEverest/utils.py?line=345'>346</a>\u001b[0m     layer_res \u001b[39m=\u001b[39m model\u001b[39m.\u001b[39;49mget_layer_result_by_layer_id(x[i \u001b[39m*\u001b[39;49m batch_size: (i \u001b[39m+\u001b[39;49m \u001b[39m1\u001b[39;49m) \u001b[39m*\u001b[39;49m batch_size], layer_id)\n\u001b[1;32m    <a href='file:///home/lzw365/Downloads/DeepEverest/utils.py?line=347'>348</a>\u001b[0m r\u001b[39m.\u001b[39mappend(layer_res)\n\u001b[1;32m    <a href='file:///home/lzw365/Downloads/DeepEverest/utils.py?line=349'>350</a>\u001b[0m \u001b[39mif\u001b[39;00m (i \u001b[39m+\u001b[39m \u001b[39m1\u001b[39m) \u001b[39m*\u001b[39m batch_size \u001b[39m>\u001b[39m\u001b[39m=\u001b[39m n:\n",
      "File \u001b[0;32m~/Downloads/DeepEverest/models/BaseModel_torch.py:70\u001b[0m, in \u001b[0;36mBaseModel_torch.get_layer_result_by_layer_id\u001b[0;34m(self, x, layer_id, normalize)\u001b[0m\n\u001b[1;32m     <a href='file:///home/lzw365/Downloads/DeepEverest/models/BaseModel_torch.py?line=67'>68</a>\u001b[0m     x \u001b[39m=\u001b[39m \u001b[39mself\u001b[39m\u001b[39m.\u001b[39mpreprocess_input_for_inference(x)\n\u001b[1;32m     <a href='file:///home/lzw365/Downloads/DeepEverest/models/BaseModel_torch.py?line=68'>69</a>\u001b[0m layer_name \u001b[39m=\u001b[39m \u001b[39mself\u001b[39m\u001b[39m.\u001b[39mname_list[layer_id]\n\u001b[0;32m---> <a href='file:///home/lzw365/Downloads/DeepEverest/models/BaseModel_torch.py?line=69'>70</a>\u001b[0m output \u001b[39m=\u001b[39m \u001b[39mself\u001b[39;49m\u001b[39m.\u001b[39;49mmodel(x)\n\u001b[1;32m     <a href='file:///home/lzw365/Downloads/DeepEverest/models/BaseModel_torch.py?line=70'>71</a>\u001b[0m \u001b[39mreturn\u001b[39;00m \u001b[39mself\u001b[39m\u001b[39m.\u001b[39mget_layer_outputs[layer_name]\n",
      "File \u001b[0;32m~/.local/lib/python3.8/site-packages/torch/nn/modules/module.py:1128\u001b[0m, in \u001b[0;36mModule._call_impl\u001b[0;34m(self, *input, **kwargs)\u001b[0m\n\u001b[1;32m   <a href='file:///home/lzw365/.local/lib/python3.8/site-packages/torch/nn/modules/module.py?line=1124'>1125</a>\u001b[0m     bw_hook \u001b[39m=\u001b[39m hooks\u001b[39m.\u001b[39mBackwardHook(\u001b[39mself\u001b[39m, full_backward_hooks)\n\u001b[1;32m   <a href='file:///home/lzw365/.local/lib/python3.8/site-packages/torch/nn/modules/module.py?line=1125'>1126</a>\u001b[0m     \u001b[39minput\u001b[39m \u001b[39m=\u001b[39m bw_hook\u001b[39m.\u001b[39msetup_input_hook(\u001b[39minput\u001b[39m)\n\u001b[0;32m-> <a href='file:///home/lzw365/.local/lib/python3.8/site-packages/torch/nn/modules/module.py?line=1127'>1128</a>\u001b[0m result \u001b[39m=\u001b[39m forward_call(\u001b[39m*\u001b[39;49m\u001b[39minput\u001b[39;49m, \u001b[39m*\u001b[39;49m\u001b[39m*\u001b[39;49mkwargs)\n\u001b[1;32m   <a href='file:///home/lzw365/.local/lib/python3.8/site-packages/torch/nn/modules/module.py?line=1128'>1129</a>\u001b[0m \u001b[39mif\u001b[39;00m _global_forward_hooks \u001b[39mor\u001b[39;00m \u001b[39mself\u001b[39m\u001b[39m.\u001b[39m_forward_hooks:\n\u001b[1;32m   <a href='file:///home/lzw365/.local/lib/python3.8/site-packages/torch/nn/modules/module.py?line=1129'>1130</a>\u001b[0m     \u001b[39mfor\u001b[39;00m hook \u001b[39min\u001b[39;00m (\u001b[39m*\u001b[39m_global_forward_hooks\u001b[39m.\u001b[39mvalues(), \u001b[39m*\u001b[39m\u001b[39mself\u001b[39m\u001b[39m.\u001b[39m_forward_hooks\u001b[39m.\u001b[39mvalues()):\n",
      "\u001b[1;32m/home/lzw365/Downloads/DeepEverest/example_torch.ipynb Cell 3'\u001b[0m in \u001b[0;36mNet.forward\u001b[0;34m(self, inputs)\u001b[0m\n\u001b[1;32m     <a href='vscode-notebook-cell://ssh-remote%2B7b22686f73744e616d65223a223130302e36342e37312e3136222c2275736572223a226c7a77333635227d/home/lzw365/Downloads/DeepEverest/example_torch.ipynb#ch0000002vscode-remote?line=18'>19</a>\u001b[0m \u001b[39mdef\u001b[39;00m \u001b[39mforward\u001b[39m(\u001b[39mself\u001b[39m, inputs):\n\u001b[0;32m---> <a href='vscode-notebook-cell://ssh-remote%2B7b22686f73744e616d65223a223130302e36342e37312e3136222c2275736572223a226c7a77333635227d/home/lzw365/Downloads/DeepEverest/example_torch.ipynb#ch0000002vscode-remote?line=19'>20</a>\u001b[0m     \u001b[39mreturn\u001b[39;00m \u001b[39mself\u001b[39;49m\u001b[39m.\u001b[39;49mmodel(inputs)\n",
      "File \u001b[0;32m~/.local/lib/python3.8/site-packages/torch/nn/modules/module.py:1128\u001b[0m, in \u001b[0;36mModule._call_impl\u001b[0;34m(self, *input, **kwargs)\u001b[0m\n\u001b[1;32m   <a href='file:///home/lzw365/.local/lib/python3.8/site-packages/torch/nn/modules/module.py?line=1124'>1125</a>\u001b[0m     bw_hook \u001b[39m=\u001b[39m hooks\u001b[39m.\u001b[39mBackwardHook(\u001b[39mself\u001b[39m, full_backward_hooks)\n\u001b[1;32m   <a href='file:///home/lzw365/.local/lib/python3.8/site-packages/torch/nn/modules/module.py?line=1125'>1126</a>\u001b[0m     \u001b[39minput\u001b[39m \u001b[39m=\u001b[39m bw_hook\u001b[39m.\u001b[39msetup_input_hook(\u001b[39minput\u001b[39m)\n\u001b[0;32m-> <a href='file:///home/lzw365/.local/lib/python3.8/site-packages/torch/nn/modules/module.py?line=1127'>1128</a>\u001b[0m result \u001b[39m=\u001b[39m forward_call(\u001b[39m*\u001b[39;49m\u001b[39minput\u001b[39;49m, \u001b[39m*\u001b[39;49m\u001b[39m*\u001b[39;49mkwargs)\n\u001b[1;32m   <a href='file:///home/lzw365/.local/lib/python3.8/site-packages/torch/nn/modules/module.py?line=1128'>1129</a>\u001b[0m \u001b[39mif\u001b[39;00m _global_forward_hooks \u001b[39mor\u001b[39;00m \u001b[39mself\u001b[39m\u001b[39m.\u001b[39m_forward_hooks:\n\u001b[1;32m   <a href='file:///home/lzw365/.local/lib/python3.8/site-packages/torch/nn/modules/module.py?line=1129'>1130</a>\u001b[0m     \u001b[39mfor\u001b[39;00m hook \u001b[39min\u001b[39;00m (\u001b[39m*\u001b[39m_global_forward_hooks\u001b[39m.\u001b[39mvalues(), \u001b[39m*\u001b[39m\u001b[39mself\u001b[39m\u001b[39m.\u001b[39m_forward_hooks\u001b[39m.\u001b[39mvalues()):\n",
      "File \u001b[0;32m~/.local/lib/python3.8/site-packages/torch/nn/modules/container.py:141\u001b[0m, in \u001b[0;36mSequential.forward\u001b[0;34m(self, input)\u001b[0m\n\u001b[1;32m    <a href='file:///home/lzw365/.local/lib/python3.8/site-packages/torch/nn/modules/container.py?line=138'>139</a>\u001b[0m \u001b[39mdef\u001b[39;00m \u001b[39mforward\u001b[39m(\u001b[39mself\u001b[39m, \u001b[39minput\u001b[39m):\n\u001b[1;32m    <a href='file:///home/lzw365/.local/lib/python3.8/site-packages/torch/nn/modules/container.py?line=139'>140</a>\u001b[0m     \u001b[39mfor\u001b[39;00m module \u001b[39min\u001b[39;00m \u001b[39mself\u001b[39m:\n\u001b[0;32m--> <a href='file:///home/lzw365/.local/lib/python3.8/site-packages/torch/nn/modules/container.py?line=140'>141</a>\u001b[0m         \u001b[39minput\u001b[39m \u001b[39m=\u001b[39m module(\u001b[39minput\u001b[39;49m)\n\u001b[1;32m    <a href='file:///home/lzw365/.local/lib/python3.8/site-packages/torch/nn/modules/container.py?line=141'>142</a>\u001b[0m     \u001b[39mreturn\u001b[39;00m \u001b[39minput\u001b[39m\n",
      "File \u001b[0;32m~/.local/lib/python3.8/site-packages/torch/nn/modules/module.py:1128\u001b[0m, in \u001b[0;36mModule._call_impl\u001b[0;34m(self, *input, **kwargs)\u001b[0m\n\u001b[1;32m   <a href='file:///home/lzw365/.local/lib/python3.8/site-packages/torch/nn/modules/module.py?line=1124'>1125</a>\u001b[0m     bw_hook \u001b[39m=\u001b[39m hooks\u001b[39m.\u001b[39mBackwardHook(\u001b[39mself\u001b[39m, full_backward_hooks)\n\u001b[1;32m   <a href='file:///home/lzw365/.local/lib/python3.8/site-packages/torch/nn/modules/module.py?line=1125'>1126</a>\u001b[0m     \u001b[39minput\u001b[39m \u001b[39m=\u001b[39m bw_hook\u001b[39m.\u001b[39msetup_input_hook(\u001b[39minput\u001b[39m)\n\u001b[0;32m-> <a href='file:///home/lzw365/.local/lib/python3.8/site-packages/torch/nn/modules/module.py?line=1127'>1128</a>\u001b[0m result \u001b[39m=\u001b[39m forward_call(\u001b[39m*\u001b[39;49m\u001b[39minput\u001b[39;49m, \u001b[39m*\u001b[39;49m\u001b[39m*\u001b[39;49mkwargs)\n\u001b[1;32m   <a href='file:///home/lzw365/.local/lib/python3.8/site-packages/torch/nn/modules/module.py?line=1128'>1129</a>\u001b[0m \u001b[39mif\u001b[39;00m _global_forward_hooks \u001b[39mor\u001b[39;00m \u001b[39mself\u001b[39m\u001b[39m.\u001b[39m_forward_hooks:\n\u001b[1;32m   <a href='file:///home/lzw365/.local/lib/python3.8/site-packages/torch/nn/modules/module.py?line=1129'>1130</a>\u001b[0m     \u001b[39mfor\u001b[39;00m hook \u001b[39min\u001b[39;00m (\u001b[39m*\u001b[39m_global_forward_hooks\u001b[39m.\u001b[39mvalues(), \u001b[39m*\u001b[39m\u001b[39mself\u001b[39m\u001b[39m.\u001b[39m_forward_hooks\u001b[39m.\u001b[39mvalues()):\n",
      "File \u001b[0;32m~/.local/lib/python3.8/site-packages/torch/nn/modules/conv.py:447\u001b[0m, in \u001b[0;36mConv2d.forward\u001b[0;34m(self, input)\u001b[0m\n\u001b[1;32m    <a href='file:///home/lzw365/.local/lib/python3.8/site-packages/torch/nn/modules/conv.py?line=445'>446</a>\u001b[0m \u001b[39mdef\u001b[39;00m \u001b[39mforward\u001b[39m(\u001b[39mself\u001b[39m, \u001b[39minput\u001b[39m: Tensor) \u001b[39m-\u001b[39m\u001b[39m>\u001b[39m Tensor:\n\u001b[0;32m--> <a href='file:///home/lzw365/.local/lib/python3.8/site-packages/torch/nn/modules/conv.py?line=446'>447</a>\u001b[0m     \u001b[39mreturn\u001b[39;00m \u001b[39mself\u001b[39;49m\u001b[39m.\u001b[39;49m_conv_forward(\u001b[39minput\u001b[39;49m, \u001b[39mself\u001b[39;49m\u001b[39m.\u001b[39;49mweight, \u001b[39mself\u001b[39;49m\u001b[39m.\u001b[39;49mbias)\n",
      "File \u001b[0;32m~/.local/lib/python3.8/site-packages/torch/nn/modules/conv.py:443\u001b[0m, in \u001b[0;36mConv2d._conv_forward\u001b[0;34m(self, input, weight, bias)\u001b[0m\n\u001b[1;32m    <a href='file:///home/lzw365/.local/lib/python3.8/site-packages/torch/nn/modules/conv.py?line=438'>439</a>\u001b[0m \u001b[39mif\u001b[39;00m \u001b[39mself\u001b[39m\u001b[39m.\u001b[39mpadding_mode \u001b[39m!=\u001b[39m \u001b[39m'\u001b[39m\u001b[39mzeros\u001b[39m\u001b[39m'\u001b[39m:\n\u001b[1;32m    <a href='file:///home/lzw365/.local/lib/python3.8/site-packages/torch/nn/modules/conv.py?line=439'>440</a>\u001b[0m     \u001b[39mreturn\u001b[39;00m F\u001b[39m.\u001b[39mconv2d(F\u001b[39m.\u001b[39mpad(\u001b[39minput\u001b[39m, \u001b[39mself\u001b[39m\u001b[39m.\u001b[39m_reversed_padding_repeated_twice, mode\u001b[39m=\u001b[39m\u001b[39mself\u001b[39m\u001b[39m.\u001b[39mpadding_mode),\n\u001b[1;32m    <a href='file:///home/lzw365/.local/lib/python3.8/site-packages/torch/nn/modules/conv.py?line=440'>441</a>\u001b[0m                     weight, bias, \u001b[39mself\u001b[39m\u001b[39m.\u001b[39mstride,\n\u001b[1;32m    <a href='file:///home/lzw365/.local/lib/python3.8/site-packages/torch/nn/modules/conv.py?line=441'>442</a>\u001b[0m                     _pair(\u001b[39m0\u001b[39m), \u001b[39mself\u001b[39m\u001b[39m.\u001b[39mdilation, \u001b[39mself\u001b[39m\u001b[39m.\u001b[39mgroups)\n\u001b[0;32m--> <a href='file:///home/lzw365/.local/lib/python3.8/site-packages/torch/nn/modules/conv.py?line=442'>443</a>\u001b[0m \u001b[39mreturn\u001b[39;00m F\u001b[39m.\u001b[39;49mconv2d(\u001b[39minput\u001b[39;49m, weight, bias, \u001b[39mself\u001b[39;49m\u001b[39m.\u001b[39;49mstride,\n\u001b[1;32m    <a href='file:///home/lzw365/.local/lib/python3.8/site-packages/torch/nn/modules/conv.py?line=443'>444</a>\u001b[0m                 \u001b[39mself\u001b[39;49m\u001b[39m.\u001b[39;49mpadding, \u001b[39mself\u001b[39;49m\u001b[39m.\u001b[39;49mdilation, \u001b[39mself\u001b[39;49m\u001b[39m.\u001b[39;49mgroups)\n",
      "\u001b[0;31mTypeError\u001b[0m: conv2d() received an invalid combination of arguments - got (list, Parameter, Parameter, tuple, tuple, tuple, int), but expected one of:\n * (Tensor input, Tensor weight, Tensor bias, tuple of ints stride, tuple of ints padding, tuple of ints dilation, int groups)\n      didn't match because some of the arguments have invalid types: (!list!, !Parameter!, !Parameter!, !tuple!, !tuple!, !tuple!, int)\n * (Tensor input, Tensor weight, Tensor bias, tuple of ints stride, str padding, tuple of ints dilation, int groups)\n      didn't match because some of the arguments have invalid types: (!list!, !Parameter!, !Parameter!, !tuple!, !tuple!, !tuple!, int)\n"
     ]
    }
   ],
   "source": [
    "top_k, exit_msg, is_in_partition_0, n_images_rerun = answer_query_with_guarantee(\n",
    "                                                        model, dataset, rev_act, rev_idx_act, rev_bit_arr, rev_idx_idx,\n",
    "                                                        par_low_bound, par_upp_bound, image_sample_id,\n",
    "                                                        neuron_group, k_global, n_partitions, bits_per_image,\n",
    "                                                        BATCH_SIZE=batch_size, batch_size=batch_size)\n",
    "top_k = sorted(top_k)\n",
    "top_k, exit_msg"
   ]
  }
 ],
 "metadata": {
  "interpreter": {
   "hash": "916dbcbb3f70747c44a77c7bcd40155683ae19c65e1c03b4aa3499c5328201f1"
  },
  "kernelspec": {
   "display_name": "Python 3.8.10 64-bit",
   "language": "python",
   "name": "python3"
  },
  "language_info": {
   "codemirror_mode": {
    "name": "ipython",
    "version": 3
   },
   "file_extension": ".py",
   "mimetype": "text/x-python",
   "name": "python",
   "nbconvert_exporter": "python",
   "pygments_lexer": "ipython3",
   "version": "3.8.10"
  },
  "orig_nbformat": 4
 },
 "nbformat": 4,
 "nbformat_minor": 2
}
