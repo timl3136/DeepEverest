{
 "cells": [
  {
   "cell_type": "code",
   "execution_count": 1,
   "metadata": {
    "ExecuteTime": {
     "end_time": "2021-04-19T01:09:23.724007Z",
     "start_time": "2021-04-19T01:09:17.948271Z"
    }
   },
   "outputs": [
    {
     "name": "stderr",
     "output_type": "stream",
     "text": [
      "Using TensorFlow backend.\n"
     ]
    }
   ],
   "source": [
    "import os\n",
    "import numpy as np\n",
    "from utils import load_mnist_vgg_dataset_model, plot_mnist\n",
    "\n",
    "os.environ['KMP_DUPLICATE_LIB_OK'] = 'True'"
   ]
  },
  {
   "cell_type": "code",
   "execution_count": 2,
   "metadata": {
    "ExecuteTime": {
     "end_time": "2021-04-19T01:09:25.340324Z",
     "start_time": "2021-04-19T01:09:23.726782Z"
    }
   },
   "outputs": [
    {
     "name": "stdout",
     "output_type": "stream",
     "text": [
      "WARNING:tensorflow:From /Users/donghe/anaconda3/lib/python3.7/site-packages/tensorflow_core/python/ops/resource_variable_ops.py:1630: calling BaseResourceVariable.__init__ (from tensorflow.python.ops.resource_variable_ops) with constraint is deprecated and will be removed in a future version.\n",
      "Instructions for updating:\n",
      "If using Keras pass *_constraint arguments to layers.\n",
      "Model: \"MnistVGG\"\n",
      "_________________________________________________________________\n",
      "Layer (type)                 Output Shape              Param #   \n",
      "=================================================================\n",
      "input_1 (InputLayer)         [(None, 28, 28, 1)]       0         \n",
      "_________________________________________________________________\n",
      "zero_padding2d (ZeroPadding2 (None, 32, 32, 1)         0         \n",
      "_________________________________________________________________\n",
      "conv2d (Conv2D)              (None, 32, 32, 64)        640       \n",
      "_________________________________________________________________\n",
      "batch_normalization (BatchNo (None, 32, 32, 64)        256       \n",
      "_________________________________________________________________\n",
      "activation (Activation)      (None, 32, 32, 64)        0         \n",
      "_________________________________________________________________\n",
      "conv2d_1 (Conv2D)            (None, 32, 32, 64)        36928     \n",
      "_________________________________________________________________\n",
      "batch_normalization_1 (Batch (None, 32, 32, 64)        256       \n",
      "_________________________________________________________________\n",
      "activation_1 (Activation)    (None, 32, 32, 64)        0         \n",
      "_________________________________________________________________\n",
      "max_pooling2d (MaxPooling2D) (None, 16, 16, 64)        0         \n",
      "_________________________________________________________________\n",
      "conv2d_2 (Conv2D)            (None, 16, 16, 128)       73856     \n",
      "_________________________________________________________________\n",
      "batch_normalization_2 (Batch (None, 16, 16, 128)       512       \n",
      "_________________________________________________________________\n",
      "activation_2 (Activation)    (None, 16, 16, 128)       0         \n",
      "_________________________________________________________________\n",
      "conv2d_3 (Conv2D)            (None, 16, 16, 128)       147584    \n",
      "_________________________________________________________________\n",
      "batch_normalization_3 (Batch (None, 16, 16, 128)       512       \n",
      "_________________________________________________________________\n",
      "activation_3 (Activation)    (None, 16, 16, 128)       0         \n",
      "_________________________________________________________________\n",
      "max_pooling2d_1 (MaxPooling2 (None, 8, 8, 128)         0         \n",
      "_________________________________________________________________\n",
      "conv2d_4 (Conv2D)            (None, 8, 8, 256)         295168    \n",
      "_________________________________________________________________\n",
      "batch_normalization_4 (Batch (None, 8, 8, 256)         1024      \n",
      "_________________________________________________________________\n",
      "activation_4 (Activation)    (None, 8, 8, 256)         0         \n",
      "_________________________________________________________________\n",
      "conv2d_5 (Conv2D)            (None, 8, 8, 256)         590080    \n",
      "_________________________________________________________________\n",
      "batch_normalization_5 (Batch (None, 8, 8, 256)         1024      \n",
      "_________________________________________________________________\n",
      "activation_5 (Activation)    (None, 8, 8, 256)         0         \n",
      "_________________________________________________________________\n",
      "conv2d_6 (Conv2D)            (None, 8, 8, 256)         590080    \n",
      "_________________________________________________________________\n",
      "batch_normalization_6 (Batch (None, 8, 8, 256)         1024      \n",
      "_________________________________________________________________\n",
      "activation_6 (Activation)    (None, 8, 8, 256)         0         \n",
      "_________________________________________________________________\n",
      "max_pooling2d_2 (MaxPooling2 (None, 4, 4, 256)         0         \n",
      "_________________________________________________________________\n",
      "conv2d_7 (Conv2D)            (None, 4, 4, 512)         1180160   \n",
      "_________________________________________________________________\n",
      "batch_normalization_7 (Batch (None, 4, 4, 512)         2048      \n",
      "_________________________________________________________________\n",
      "activation_7 (Activation)    (None, 4, 4, 512)         0         \n",
      "_________________________________________________________________\n",
      "conv2d_8 (Conv2D)            (None, 4, 4, 512)         2359808   \n",
      "_________________________________________________________________\n",
      "batch_normalization_8 (Batch (None, 4, 4, 512)         2048      \n",
      "_________________________________________________________________\n",
      "activation_8 (Activation)    (None, 4, 4, 512)         0         \n",
      "_________________________________________________________________\n",
      "conv2d_9 (Conv2D)            (None, 4, 4, 512)         2359808   \n",
      "_________________________________________________________________\n",
      "batch_normalization_9 (Batch (None, 4, 4, 512)         2048      \n",
      "_________________________________________________________________\n",
      "activation_9 (Activation)    (None, 4, 4, 512)         0         \n",
      "_________________________________________________________________\n",
      "max_pooling2d_3 (MaxPooling2 (None, 2, 2, 512)         0         \n",
      "_________________________________________________________________\n",
      "conv2d_10 (Conv2D)           (None, 2, 2, 512)         2359808   \n",
      "_________________________________________________________________\n",
      "batch_normalization_10 (Batc (None, 2, 2, 512)         2048      \n",
      "_________________________________________________________________\n",
      "activation_10 (Activation)   (None, 2, 2, 512)         0         \n",
      "_________________________________________________________________\n",
      "conv2d_11 (Conv2D)           (None, 2, 2, 512)         2359808   \n",
      "_________________________________________________________________\n",
      "batch_normalization_11 (Batc (None, 2, 2, 512)         2048      \n",
      "_________________________________________________________________\n",
      "activation_11 (Activation)   (None, 2, 2, 512)         0         \n",
      "_________________________________________________________________\n",
      "conv2d_12 (Conv2D)           (None, 2, 2, 512)         2359808   \n",
      "_________________________________________________________________\n",
      "batch_normalization_12 (Batc (None, 2, 2, 512)         2048      \n",
      "_________________________________________________________________\n",
      "activation_12 (Activation)   (None, 2, 2, 512)         0         \n",
      "_________________________________________________________________\n",
      "max_pooling2d_4 (MaxPooling2 (None, 1, 1, 512)         0         \n",
      "_________________________________________________________________\n",
      "flatten (Flatten)            (None, 512)               0         \n",
      "_________________________________________________________________\n",
      "dense (Dense)                (None, 256)               131328    \n",
      "_________________________________________________________________\n",
      "dropout (Dropout)            (None, 256)               0         \n",
      "_________________________________________________________________\n",
      "dense_1 (Dense)              (None, 256)               65792     \n",
      "_________________________________________________________________\n",
      "dropout_1 (Dropout)          (None, 256)               0         \n",
      "_________________________________________________________________\n",
      "dense_2 (Dense)              (None, 10)                2570      \n",
      "_________________________________________________________________\n",
      "activation_13 (Activation)   (None, 10)                0         \n",
      "=================================================================\n",
      "Total params: 14,930,122\n",
      "Trainable params: 14,921,674\n",
      "Non-trainable params: 8,448\n",
      "_________________________________________________________________\n"
     ]
    }
   ],
   "source": [
    "x_train, y_train, x_test, y_test, model = load_mnist_vgg_dataset_model()\n",
    "all_layer_names = [layer.name for layer in model.model.layers]\n",
    "model.model.summary()"
   ]
  },
  {
   "cell_type": "markdown",
   "metadata": {},
   "source": [
    "The following preparation will be done during pre-processing: "
   ]
  },
  {
   "cell_type": "code",
   "execution_count": 3,
   "metadata": {
    "ExecuteTime": {
     "end_time": "2021-04-19T01:09:25.344770Z",
     "start_time": "2021-04-19T01:09:25.342885Z"
    }
   },
   "outputs": [],
   "source": [
    "# x_test = x_test[:1000]\n",
    "# y_test = y_test[:1000]"
   ]
  },
  {
   "cell_type": "code",
   "execution_count": 4,
   "metadata": {
    "ExecuteTime": {
     "end_time": "2021-04-19T01:09:25.348498Z",
     "start_time": "2021-04-19T01:09:25.346744Z"
    }
   },
   "outputs": [],
   "source": [
    "# prediction = model.predict(x_test[:1000])\n",
    "# misclassified_mask = np.argmax(prediction, axis=1) != np.argmax(y_test[:1000], axis=1)\n",
    "# np.where(misclassified_mask)"
   ]
  },
  {
   "cell_type": "code",
   "execution_count": 5,
   "metadata": {
    "ExecuteTime": {
     "end_time": "2021-04-19T01:09:25.352755Z",
     "start_time": "2021-04-19T01:09:25.349989Z"
    }
   },
   "outputs": [],
   "source": [
    "layer_name = \"activation_12\""
   ]
  },
  {
   "cell_type": "markdown",
   "metadata": {},
   "source": [
    "At query time:"
   ]
  },
  {
   "cell_type": "code",
   "execution_count": 6,
   "metadata": {
    "ExecuteTime": {
     "end_time": "2021-04-19T01:09:27.756606Z",
     "start_time": "2021-04-19T01:09:27.753948Z"
    }
   },
   "outputs": [],
   "source": [
    "# image_ids = [193, 412, 582, 659, 938]\n",
    "# label_test = np.argmax(y_test, axis=1)\n",
    "# for image_id in image_ids:\n",
    "#     prediction = np.argmax(model.predict(x_test[image_id]), axis=1).item()\n",
    "#     plot_mnist(x_test, label_test, image_id, prediction)"
   ]
  },
  {
   "cell_type": "code",
   "execution_count": 7,
   "metadata": {
    "ExecuteTime": {
     "end_time": "2021-04-19T01:09:31.345818Z",
     "start_time": "2021-04-19T01:09:31.337186Z"
    }
   },
   "outputs": [],
   "source": [
    "import heapq\n",
    "def get_topk_activations_given_images(model, dataset, image_ids, layer_name, k):\n",
    "    res = list()\n",
    "    image_samples = list()\n",
    "    for image_sample_id in image_ids:\n",
    "        image_samples.append(dataset[image_sample_id])\n",
    "    layer_result_image_samples = model.get_layer_result_by_layer_name(image_samples, layer_name)\n",
    "    for idx, image_sample_id in enumerate(image_ids):\n",
    "        heap = list()\n",
    "        for neuron_idx, activation in np.ndenumerate(layer_result_image_samples[idx]):\n",
    "            if len(heap) < k:\n",
    "                heapq.heappush(heap, (activation, neuron_idx))\n",
    "            elif (activation, neuron_idx) > heap[0]:\n",
    "                heapq.heapreplace(heap, (activation, neuron_idx))\n",
    "        res.append(sorted(heap, reverse=True))\n",
    "    return res"
   ]
  },
  {
   "cell_type": "code",
   "execution_count": 8,
   "metadata": {
    "ExecuteTime": {
     "end_time": "2021-04-19T01:09:32.640676Z",
     "start_time": "2021-04-19T01:09:32.426575Z"
    }
   },
   "outputs": [
    {
     "data": {
      "text/plain": [
       "[[(2.2470708, (1, 1, 374)),\n",
       "  (1.9390898, (0, 0, 113)),\n",
       "  (1.901135, (0, 0, 358)),\n",
       "  (1.8457981, (1, 0, 335)),\n",
       "  (1.8241946, (1, 1, 62)),\n",
       "  (1.7726848, (1, 0, 182)),\n",
       "  (1.7536622, (1, 1, 129)),\n",
       "  (1.7496961, (0, 0, 95)),\n",
       "  (1.7491626, (1, 0, 441)),\n",
       "  (1.6753774, (1, 1, 177)),\n",
       "  (1.6667684, (0, 0, 46)),\n",
       "  (1.6587315, (0, 1, 340)),\n",
       "  (1.6440471, (0, 1, 285)),\n",
       "  (1.6398696, (1, 1, 428)),\n",
       "  (1.6205437, (0, 1, 365)),\n",
       "  (1.614127, (0, 1, 461)),\n",
       "  (1.5758138, (0, 0, 245)),\n",
       "  (1.5589457, (0, 0, 45)),\n",
       "  (1.5521429, (0, 1, 336)),\n",
       "  (1.5128992, (0, 1, 379))]]"
      ]
     },
     "execution_count": 8,
     "metadata": {},
     "output_type": "execute_result"
    }
   ],
   "source": [
    "image_ids = [659]\n",
    "k_global = 20\n",
    "topk_activations = get_topk_activations_given_images(model, x_test, image_ids, layer_name, k_global)\n",
    "topk_activations"
   ]
  },
  {
   "cell_type": "code",
   "execution_count": 9,
   "metadata": {
    "ExecuteTime": {
     "end_time": "2021-04-19T01:09:34.443971Z",
     "start_time": "2021-04-19T01:09:34.430676Z"
    }
   },
   "outputs": [],
   "source": [
    "from backprop import *\n",
    "import matplotlib.pyplot as plt\n",
    "\n",
    "def bp(model, layer_name, x, masking):\n",
    "    backprop = Backpropagation(model=model.model, \n",
    "                           layer_name=layer_name,\n",
    "                           input_data=x,\n",
    "                           masking=masking)\n",
    "    heatmap, _ = backprop.compute()\n",
    "    plt.imshow(heatmap[0])\n",
    "    plt.axis('off')\n",
    "    plt.show()\n",
    "    \n",
    "\n",
    "def sgrad(model, layer_name, x, masking):\n",
    "    smoothgrad = SmoothGrad(model=model.model, \n",
    "                           layer_name=layer_name,\n",
    "                           input_data=x,\n",
    "                           masking=masking)\n",
    "    heatmap  = smoothgrad.compute()\n",
    "    plt.imshow(heatmap[0]); plt.axis('off'); plt.show()\n",
    "    \n",
    "\n",
    "def guidedbp(model, layer_name, x, masking):\n",
    "    guidedbackprop = GuidedBackprop(model=model.model, \n",
    "                           layer_name=layer_name,\n",
    "                           input_data=x,\n",
    "                           masking=masking)\n",
    "    heatmap  = guidedbackprop.compute()\n",
    "    plt.imshow(heatmap[0]); plt.axis('off'); plt.show()\n",
    "    \n",
    "\n",
    "def deconv(model, layer_name, x, masking):\n",
    "    deconvnet = DeconvNet(model=model.model, \n",
    "                           layer_name=layer_name,\n",
    "                           input_data=x,\n",
    "                           masking=masking)\n",
    "    heatmap  = deconvnet.compute()\n",
    "    plt.imshow(heatmap[0]); plt.axis('off'); plt.show()"
   ]
  },
  {
   "cell_type": "code",
   "execution_count": 11,
   "metadata": {
    "ExecuteTime": {
     "end_time": "2021-04-19T01:10:16.135190Z",
     "start_time": "2021-04-19T01:10:16.130317Z"
    }
   },
   "outputs": [],
   "source": [
    "layer = model.model.get_layer(layer_name)\n",
    "masking = np.zeros(layer.output_shape[1:])\n",
    "for item in topk_activations[0]:\n",
    "    masking[item[1]] = 1"
   ]
  },
  {
   "cell_type": "code",
   "execution_count": 11,
   "metadata": {
    "ExecuteTime": {
     "end_time": "2021-04-15T15:59:27.835273Z",
     "start_time": "2021-04-15T15:59:27.832789Z"
    }
   },
   "outputs": [],
   "source": [
    "# masking is for selecting which unit to be mapped back\n",
    "x = x_test[659]\n",
    "x = np.expand_dims(x, axis=0)"
   ]
  },
  {
   "cell_type": "code",
   "execution_count": 12,
   "metadata": {
    "ExecuteTime": {
     "end_time": "2021-04-15T15:59:28.568331Z",
     "start_time": "2021-04-15T15:59:27.837456Z"
    }
   },
   "outputs": [
    {
     "data": {
      "image/png": "[encoded data removed]",
      "text/plain": [
       "<Figure size 432x288 with 1 Axes>"
      ]
     },
     "metadata": {
      "needs_background": "light"
     },
     "output_type": "display_data"
    }
   ],
   "source": [
    "bp(model, layer_name, x, masking)"
   ]
  },
  {
   "cell_type": "code",
   "execution_count": 13,
   "metadata": {
    "ExecuteTime": {
     "end_time": "2021-04-15T15:59:30.116897Z",
     "start_time": "2021-04-15T15:59:28.569857Z"
    }
   },
   "outputs": [
    {
     "data": {
      "image/png": "[encoded data removed]",
      "text/plain": [
       "<Figure size 432x288 with 1 Axes>"
      ]
     },
     "metadata": {
      "needs_background": "light"
     },
     "output_type": "display_data"
    }
   ],
   "source": [
    "sgrad(model, layer_name, x, masking)"
   ]
  },
  {
   "cell_type": "code",
   "execution_count": 14,
   "metadata": {
    "ExecuteTime": {
     "end_time": "2021-04-15T15:59:57.419074Z",
     "start_time": "2021-04-15T15:59:30.118584Z"
    }
   },
   "outputs": [
    {
     "data": {
      "image/png": "[encoded data removed]",
      "text/plain": [
       "<Figure size 432x288 with 1 Axes>"
      ]
     },
     "metadata": {
      "needs_background": "light"
     },
     "output_type": "display_data"
    },
    {
     "data": {
      "image/png": "[encoded data removed]",
      "text/plain": [
       "<Figure size 432x288 with 1 Axes>"
      ]
     },
     "metadata": {
      "needs_background": "light"
     },
     "output_type": "display_data"
    }
   ],
   "source": [
    "guidedbp(model, layer_name, x, masking)\n",
    "deconv(model, layer_name, x, masking)"
   ]
  },
  {
   "cell_type": "code",
   "execution_count": 15,
   "metadata": {
    "ExecuteTime": {
     "end_time": "2021-04-15T16:00:43.707575Z",
     "start_time": "2021-04-15T15:59:57.420673Z"
    }
   },
   "outputs": [
    {
     "data": {
      "image/png": "[encoded data removed]",
      "text/plain": [
       "<Figure size 432x288 with 1 Axes>"
      ]
     },
     "metadata": {
      "needs_background": "light"
     },
     "output_type": "display_data"
    },
    {
     "data": {
      "image/png": "[encoded data removed]",
      "text/plain": [
       "<Figure size 432x288 with 1 Axes>"
      ]
     },
     "metadata": {
      "needs_background": "light"
     },
     "output_type": "display_data"
    }
   ],
   "source": [
    "x = x_test[9664]\n",
    "x = np.expand_dims(x, axis=0)\n",
    "guidedbp(model, layer_name, x, masking)\n",
    "deconv(model, layer_name, x, masking)"
   ]
  },
  {
   "cell_type": "code",
   "execution_count": 16,
   "metadata": {
    "ExecuteTime": {
     "end_time": "2021-04-15T16:01:44.916822Z",
     "start_time": "2021-04-15T16:00:43.709213Z"
    }
   },
   "outputs": [
    {
     "data": {
      "image/png": "[encoded data removed]",
      "text/plain": [
       "<Figure size 432x288 with 1 Axes>"
      ]
     },
     "metadata": {
      "needs_background": "light"
     },
     "output_type": "display_data"
    },
    {
     "data": {
      "image/png": "[encoded data removed]",
      "text/plain": [
       "<Figure size 432x288 with 1 Axes>"
      ]
     },
     "metadata": {
      "needs_background": "light"
     },
     "output_type": "display_data"
    }
   ],
   "source": [
    "x = x_test[9505]\n",
    "x = np.expand_dims(x, axis=0)\n",
    "guidedbp(model, layer_name, x, masking)\n",
    "deconv(model, layer_name, x, masking)"
   ]
  },
  {
   "cell_type": "code",
   "execution_count": 17,
   "metadata": {
    "ExecuteTime": {
     "end_time": "2021-04-15T16:03:06.372396Z",
     "start_time": "2021-04-15T16:01:44.918489Z"
    }
   },
   "outputs": [
    {
     "data": {
      "image/png": "[encoded data removed]",
      "text/plain": [
       "<Figure size 432x288 with 1 Axes>"
      ]
     },
     "metadata": {
      "needs_background": "light"
     },
     "output_type": "display_data"
    },
    {
     "data": {
      "image/png": "[encoded data removed]",
      "text/plain": [
       "<Figure size 432x288 with 1 Axes>"
      ]
     },
     "metadata": {
      "needs_background": "light"
     },
     "output_type": "display_data"
    }
   ],
   "source": [
    "x = x_test[4176]\n",
    "x = np.expand_dims(x, axis=0)\n",
    "guidedbp(model, layer_name, x, masking)\n",
    "deconv(model, layer_name, x, masking)"
   ]
  },
  {
   "cell_type": "code",
   "execution_count": 18,
   "metadata": {
    "ExecuteTime": {
     "end_time": "2021-04-15T16:04:46.453764Z",
     "start_time": "2021-04-15T16:03:06.374377Z"
    }
   },
   "outputs": [
    {
     "data": {
      "image/png": "[encoded data removed]",
      "text/plain": [
       "<Figure size 432x288 with 1 Axes>"
      ]
     },
     "metadata": {
      "needs_background": "light"
     },
     "output_type": "display_data"
    },
    {
     "data": {
      "image/png": "[encoded data removed]",
      "text/plain": [
       "<Figure size 432x288 with 1 Axes>"
      ]
     },
     "metadata": {
      "needs_background": "light"
     },
     "output_type": "display_data"
    }
   ],
   "source": [
    "x = x_test[4201]\n",
    "x = np.expand_dims(x, axis=0)\n",
    "guidedbp(model, layer_name, x, masking)\n",
    "deconv(model, layer_name, x, masking)"
   ]
  },
  {
   "cell_type": "code",
   "execution_count": 21,
   "metadata": {
    "ExecuteTime": {
     "end_time": "2021-04-15T16:44:58.909393Z",
     "start_time": "2021-04-15T16:42:38.417055Z"
    }
   },
   "outputs": [
    {
     "data": {
      "image/png": "[encoded data removed]",
      "text/plain": [
       "<Figure size 432x288 with 1 Axes>"
      ]
     },
     "metadata": {
      "needs_background": "light"
     },
     "output_type": "display_data"
    },
    {
     "data": {
      "image/png": "[encoded data removed]",
      "text/plain": [
       "<Figure size 432x288 with 1 Axes>"
      ]
     },
     "metadata": {
      "needs_background": "light"
     },
     "output_type": "display_data"
    }
   ],
   "source": [
    "x = x_test[659]\n",
    "x = np.expand_dims(x, axis=0)\n",
    "masking = np.ones(layer.output_shape[1:])\n",
    "guidedbp(model, layer_name, x, masking)\n",
    "deconv(model, layer_name, x, masking)"
   ]
  },
  {
   "cell_type": "code",
   "execution_count": 13,
   "metadata": {
    "ExecuteTime": {
     "end_time": "2021-04-19T01:14:00.268297Z",
     "start_time": "2021-04-19T01:13:16.133958Z"
    }
   },
   "outputs": [
    {
     "data": {
      "image/png": "[encoded data removed]",
      "text/plain": [
       "<Figure size 432x288 with 1 Axes>"
      ]
     },
     "metadata": {
      "needs_background": "light"
     },
     "output_type": "display_data"
    },
    {
     "data": {
      "image/png": "[encoded data removed]",
      "text/plain": [
       "<Figure size 432x288 with 1 Axes>"
      ]
     },
     "metadata": {
      "needs_background": "light"
     },
     "output_type": "display_data"
    }
   ],
   "source": [
    "x = x_test[9664]\n",
    "x = np.expand_dims(x, axis=0)\n",
    "masking = np.ones(layer.output_shape[1:])\n",
    "guidedbp(model, layer_name, x, masking)\n",
    "deconv(model, layer_name, x, masking)"
   ]
  },
  {
   "cell_type": "code",
   "execution_count": 14,
   "metadata": {
    "ExecuteTime": {
     "end_time": "2021-04-19T01:15:10.185865Z",
     "start_time": "2021-04-19T01:14:00.270288Z"
    }
   },
   "outputs": [
    {
     "data": {
      "image/png": "[encoded data removed]",
      "text/plain": [
       "<Figure size 432x288 with 1 Axes>"
      ]
     },
     "metadata": {
      "needs_background": "light"
     },
     "output_type": "display_data"
    },
    {
     "data": {
      "image/png": "[encoded data removed]",
      "text/plain": [
       "<Figure size 432x288 with 1 Axes>"
      ]
     },
     "metadata": {
      "needs_background": "light"
     },
     "output_type": "display_data"
    }
   ],
   "source": [
    "x = x_test[9505]\n",
    "x = np.expand_dims(x, axis=0)\n",
    "masking = np.ones(layer.output_shape[1:])\n",
    "guidedbp(model, layer_name, x, masking)\n",
    "deconv(model, layer_name, x, masking)"
   ]
  },
  {
   "cell_type": "code",
   "execution_count": 15,
   "metadata": {
    "ExecuteTime": {
     "end_time": "2021-04-19T01:16:38.404621Z",
     "start_time": "2021-04-19T01:15:10.188719Z"
    }
   },
   "outputs": [
    {
     "data": {
      "image/png": "[encoded data removed]",
      "text/plain": [
       "<Figure size 432x288 with 1 Axes>"
      ]
     },
     "metadata": {
      "needs_background": "light"
     },
     "output_type": "display_data"
    },
    {
     "data": {
      "image/png": "[encoded data removed]",
      "text/plain": [
       "<Figure size 432x288 with 1 Axes>"
      ]
     },
     "metadata": {
      "needs_background": "light"
     },
     "output_type": "display_data"
    }
   ],
   "source": [
    "x = x_test[4176]\n",
    "x = np.expand_dims(x, axis=0)\n",
    "masking = np.ones(layer.output_shape[1:])\n",
    "guidedbp(model, layer_name, x, masking)\n",
    "deconv(model, layer_name, x, masking)"
   ]
  },
  {
   "cell_type": "code",
   "execution_count": 16,
   "metadata": {
    "ExecuteTime": {
     "end_time": "2021-04-19T01:18:13.765648Z",
     "start_time": "2021-04-19T01:16:38.406513Z"
    }
   },
   "outputs": [
    {
     "data": {
      "image/png": "[encoded data removed]",
      "text/plain": [
       "<Figure size 432x288 with 1 Axes>"
      ]
     },
     "metadata": {
      "needs_background": "light"
     },
     "output_type": "display_data"
    },
    {
     "data": {
      "image/png": "[encoded data removed]",
      "text/plain": [
       "<Figure size 432x288 with 1 Axes>"
      ]
     },
     "metadata": {
      "needs_background": "light"
     },
     "output_type": "display_data"
    }
   ],
   "source": [
    "x = x_test[4201]\n",
    "x = np.expand_dims(x, axis=0)\n",
    "masking = np.ones(layer.output_shape[1:])\n",
    "guidedbp(model, layer_name, x, masking)\n",
    "deconv(model, layer_name, x, masking)"
   ]
  },
  {
   "cell_type": "code",
   "execution_count": null,
   "metadata": {},
   "outputs": [],
   "source": []
  }
 ],
 "metadata": {
  "kernelspec": {
   "display_name": "Python 3",
   "language": "python",
   "name": "python3"
  },
  "language_info": {
   "codemirror_mode": {
    "name": "ipython",
    "version": 3
   },
   "file_extension": ".py",
   "mimetype": "text/x-python",
   "name": "python",
   "nbconvert_exporter": "python",
   "pygments_lexer": "ipython3",
   "version": "3.7.3"
  }
 },
 "nbformat": 4,
 "nbformat_minor": 1
}
